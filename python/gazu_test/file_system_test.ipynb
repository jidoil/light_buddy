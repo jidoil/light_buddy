{
 "cells": [
  {
   "cell_type": "markdown",
   "source": [
    "### Pickle : 기본 자료형 그대로 저장하고 읽을 수 있는 기능이다\n",
    "- 파이썬 끼리 자료를 주고 받는 file을 생성할때 매우 유용하다."
   ],
   "metadata": {
    "collapsed": false
   }
  },
  {
   "cell_type": "code",
   "execution_count": 3,
   "outputs": [],
   "source": [
    "import os"
   ],
   "metadata": {
    "collapsed": false,
    "ExecuteTime": {
     "end_time": "2023-07-25T05:34:38.421776319Z",
     "start_time": "2023-07-25T05:34:38.379792200Z"
    }
   }
  },
  {
   "cell_type": "code",
   "execution_count": 1,
   "metadata": {
    "collapsed": true,
    "ExecuteTime": {
     "end_time": "2023-07-25T05:34:03.860109637Z",
     "start_time": "2023-07-25T05:34:03.859820962Z"
    }
   },
   "outputs": [],
   "source": [
    "import pickle"
   ]
  },
  {
   "cell_type": "code",
   "execution_count": 4,
   "outputs": [
    {
     "data": {
      "text/plain": "'/home/rapa/docs/light_buddy/python/gazu_test'"
     },
     "execution_count": 4,
     "metadata": {},
     "output_type": "execute_result"
    }
   ],
   "source": [
    "os.getcwd()"
   ],
   "metadata": {
    "collapsed": false,
    "ExecuteTime": {
     "end_time": "2023-07-25T05:34:44.412827339Z",
     "start_time": "2023-07-25T05:34:44.391455969Z"
    }
   }
  },
  {
   "cell_type": "code",
   "execution_count": 2,
   "outputs": [],
   "source": [
    "d = ['hello', 123, 3.14, {'a': 123}]"
   ],
   "metadata": {
    "collapsed": false,
    "ExecuteTime": {
     "end_time": "2023-07-25T05:34:19.697089961Z",
     "start_time": "2023-07-25T05:34:19.688095583Z"
    }
   }
  },
  {
   "cell_type": "code",
   "execution_count": 8,
   "outputs": [],
   "source": [
    "with open(\"%s/%s\" % (os.getcwd(), \"pickle.dat\"), \"wb\") as f:\n",
    "\tpickle.dump(str(d), f)"
   ],
   "metadata": {
    "collapsed": false,
    "ExecuteTime": {
     "end_time": "2023-07-25T05:39:00.892198559Z",
     "start_time": "2023-07-25T05:39:00.884490810Z"
    }
   }
  },
  {
   "cell_type": "code",
   "execution_count": 9,
   "outputs": [],
   "source": [
    "with open(\"%s/%s\" % (os.getcwd(), \"pickle.dat\"), \"rb\") as f:\n",
    "\tr = pickle.load(f)"
   ],
   "metadata": {
    "collapsed": false,
    "ExecuteTime": {
     "end_time": "2023-07-25T05:39:42.750231212Z",
     "start_time": "2023-07-25T05:39:42.702252892Z"
    }
   }
  },
  {
   "cell_type": "code",
   "execution_count": 10,
   "outputs": [
    {
     "name": "stdout",
     "output_type": "stream",
     "text": [
      "['hello', 123, 3.14, {'a': 123}]\n"
     ]
    }
   ],
   "source": [
    "print(r)"
   ],
   "metadata": {
    "collapsed": false,
    "ExecuteTime": {
     "end_time": "2023-07-25T05:39:45.198782617Z",
     "start_time": "2023-07-25T05:39:45.195447659Z"
    }
   }
  },
  {
   "cell_type": "markdown",
   "source": [
    "### glob : 현재 디렉토리의 모든 파일을 조회함"
   ],
   "metadata": {
    "collapsed": false
   }
  },
  {
   "cell_type": "code",
   "execution_count": 11,
   "outputs": [],
   "source": [
    "import glob"
   ],
   "metadata": {
    "collapsed": false,
    "ExecuteTime": {
     "end_time": "2023-07-25T05:42:03.799405655Z",
     "start_time": "2023-07-25T05:42:03.750127928Z"
    }
   }
  },
  {
   "cell_type": "code",
   "execution_count": 14,
   "outputs": [
    {
     "data": {
      "text/plain": "['/home/rapa/docs/light_buddy/python/gazu_test/gazu_teset.ipynb',\n '/home/rapa/docs/light_buddy/python/gazu_test/maya_test.py',\n '/home/rapa/docs/light_buddy/python/gazu_test/pickle.dat',\n '/home/rapa/docs/light_buddy/python/gazu_test/file_system_test.ipynb']"
     },
     "execution_count": 14,
     "metadata": {},
     "output_type": "execute_result"
    }
   ],
   "source": [
    "glob.glob(os.getcwd()+\"/*\")"
   ],
   "metadata": {
    "collapsed": false,
    "ExecuteTime": {
     "end_time": "2023-07-25T05:43:07.661934813Z",
     "start_time": "2023-07-25T05:43:07.609322581Z"
    }
   }
  },
  {
   "cell_type": "code",
   "execution_count": 19,
   "outputs": [
    {
     "data": {
      "text/plain": "('/home/rapa/docs/light_buddy/python/gazu_testtest', '.jpg')"
     },
     "execution_count": 19,
     "metadata": {},
     "output_type": "execute_result"
    }
   ],
   "source": [
    "os.path.splitext(os.getcwd()+\"test.jpg\")"
   ],
   "metadata": {
    "collapsed": false,
    "ExecuteTime": {
     "end_time": "2023-07-25T05:48:48.347553627Z",
     "start_time": "2023-07-25T05:48:48.337829297Z"
    }
   }
  },
  {
   "cell_type": "markdown",
   "source": [
    "### os\n",
    "- 현재의 working directory 경로를 가져올수 있다.\n",
    "- 다른 경로로 이동할 수 있다.\n",
    "- directory를 생성하거나 삭제할 수 있다.\n",
    "- 경로가 파일인지 디렉토리인지 확인할 수 있다.\n",
    "- 경로가 존재하는지 확인할 수 있다.\n",
    "- 현재 경로내의 하위 경로를 출력할 수 있다.\n",
    "- 파일의 권한을 확인할수 있고 변경할수 있다.\n",
    "- 파일의 이름을 변경하거나 삭제할 수 있다."
   ],
   "metadata": {
    "collapsed": false
   }
  },
  {
   "cell_type": "code",
   "execution_count": 20,
   "outputs": [
    {
     "data": {
      "text/plain": "'/'"
     },
     "execution_count": 20,
     "metadata": {},
     "output_type": "execute_result"
    }
   ],
   "source": [
    "os.sep  # 현재 os의 디렉토리 구분자"
   ],
   "metadata": {
    "collapsed": false,
    "ExecuteTime": {
     "end_time": "2023-07-25T06:09:58.338179136Z",
     "start_time": "2023-07-25T06:09:58.283797928Z"
    }
   }
  },
  {
   "cell_type": "code",
   "execution_count": 21,
   "outputs": [
    {
     "data": {
      "text/plain": "'/home/rapa/docs/light_buddy/python'"
     },
     "execution_count": 21,
     "metadata": {},
     "output_type": "execute_result"
    }
   ],
   "source": [
    "os.path.dirname(os.getcwd())  # 현재 디렉토리의 상위 디렉토리 출력"
   ],
   "metadata": {
    "collapsed": false,
    "ExecuteTime": {
     "end_time": "2023-07-25T06:09:59.128021137Z",
     "start_time": "2023-07-25T06:09:59.125274902Z"
    }
   }
  },
  {
   "cell_type": "code",
   "execution_count": 22,
   "outputs": [
    {
     "data": {
      "text/plain": "('/home/rapa/docs/light_buddy/python/gazu_testtest', '.jpg')"
     },
     "execution_count": 22,
     "metadata": {},
     "output_type": "execute_result"
    }
   ],
   "source": [
    "os.path.splitext(os.getcwd()+\"test.jpg\")  # 파일경로에서 확장자를 분리함"
   ],
   "metadata": {
    "collapsed": false,
    "ExecuteTime": {
     "end_time": "2023-07-25T06:09:59.958345152Z",
     "start_time": "2023-07-25T06:09:59.954404491Z"
    }
   }
  },
  {
   "cell_type": "code",
   "execution_count": 23,
   "outputs": [
    {
     "data": {
      "text/plain": "['gazu_teset.ipynb', 'maya_test.py', 'pickle.dat', 'file_system_test.ipynb']"
     },
     "execution_count": 23,
     "metadata": {},
     "output_type": "execute_result"
    }
   ],
   "source": [
    "os.listdir(os.getcwd())  # 경로의 하위 경로와 모든 파일을 출력함"
   ],
   "metadata": {
    "collapsed": false,
    "ExecuteTime": {
     "end_time": "2023-07-25T06:23:47.758107050Z",
     "start_time": "2023-07-25T06:23:47.699348063Z"
    }
   }
  },
  {
   "cell_type": "code",
   "execution_count": 25,
   "outputs": [],
   "source": [
    "files = []  # 파일명을 담을 어레이\n",
    "for item in os.listdir(os.getcwd()):\n",
    "\tif os.path.isfile(item):  # 경로에서 가져온 텍스트가 파일이면 추가함\n",
    "\t\tfiles.append(item)"
   ],
   "metadata": {
    "collapsed": false,
    "ExecuteTime": {
     "end_time": "2023-07-25T06:25:20.480876514Z",
     "start_time": "2023-07-25T06:25:20.477593411Z"
    }
   }
  },
  {
   "cell_type": "code",
   "execution_count": 26,
   "outputs": [
    {
     "data": {
      "text/plain": "['gazu_teset.ipynb', 'maya_test.py', 'pickle.dat', 'file_system_test.ipynb']"
     },
     "execution_count": 26,
     "metadata": {},
     "output_type": "execute_result"
    }
   ],
   "source": [
    "files"
   ],
   "metadata": {
    "collapsed": false,
    "ExecuteTime": {
     "end_time": "2023-07-25T06:25:23.618425908Z",
     "start_time": "2023-07-25T06:25:23.614078082Z"
    }
   }
  },
  {
   "cell_type": "code",
   "execution_count": 35,
   "outputs": [],
   "source": [
    "# 동일한 코드의 list comprehension 버전\n",
    "files = [item for item in os.listdir(os.getcwd()) if os.path.isfile(item)]"
   ],
   "metadata": {
    "collapsed": false,
    "ExecuteTime": {
     "end_time": "2023-07-25T06:35:52.594891797Z",
     "start_time": "2023-07-25T06:35:52.538996180Z"
    }
   }
  },
  {
   "cell_type": "code",
   "execution_count": 36,
   "outputs": [
    {
     "data": {
      "text/plain": "['gazu_teset.ipynb', 'maya_test.py', 'pickle.dat', 'file_system_test.ipynb']"
     },
     "execution_count": 36,
     "metadata": {},
     "output_type": "execute_result"
    }
   ],
   "source": [
    "files"
   ],
   "metadata": {
    "collapsed": false,
    "ExecuteTime": {
     "end_time": "2023-07-25T06:35:56.340261654Z",
     "start_time": "2023-07-25T06:35:56.316244903Z"
    }
   }
  },
  {
   "cell_type": "code",
   "execution_count": 32,
   "outputs": [
    {
     "name": "stdout",
     "output_type": "stream",
     "text": [
      "['hello', 123, 3.14, {'a': 123}]\n"
     ]
    }
   ],
   "source": [
    "if files:  # 파일 목록에서 특정 확장자만 찾아서 출력\n",
    "\tfor file in files:\n",
    "\t\tif file.endswith(\".dat\"):\n",
    "\t\t\twith open(\"%s/%s\" % (os.getcwd(), file), \"rb\") as f:\n",
    "\t\t\t\tdata = pickle.load(f)\n",
    "print(data)"
   ],
   "metadata": {
    "collapsed": false,
    "ExecuteTime": {
     "end_time": "2023-07-25T06:28:57.430630345Z",
     "start_time": "2023-07-25T06:28:57.424350716Z"
    }
   }
  },
  {
   "cell_type": "code",
   "execution_count": 33,
   "outputs": [],
   "source": [
    "# 파일 이름과 현재경로를 결합해서 풀 경로를 만듬\n",
    "files_paths = [os.path.join(os.getcwd(), file) for file in files]"
   ],
   "metadata": {
    "collapsed": false,
    "ExecuteTime": {
     "end_time": "2023-07-25T06:32:29.128079612Z",
     "start_time": "2023-07-25T06:32:29.123684916Z"
    }
   }
  },
  {
   "cell_type": "code",
   "execution_count": 34,
   "outputs": [
    {
     "data": {
      "text/plain": "['/home/rapa/docs/light_buddy/python/gazu_test/gazu_teset.ipynb',\n '/home/rapa/docs/light_buddy/python/gazu_test/maya_test.py',\n '/home/rapa/docs/light_buddy/python/gazu_test/pickle.dat',\n '/home/rapa/docs/light_buddy/python/gazu_test/file_system_test.ipynb']"
     },
     "execution_count": 34,
     "metadata": {},
     "output_type": "execute_result"
    }
   ],
   "source": [
    "files_paths"
   ],
   "metadata": {
    "collapsed": false,
    "ExecuteTime": {
     "end_time": "2023-07-25T06:32:32.134543540Z",
     "start_time": "2023-07-25T06:32:32.126715671Z"
    }
   }
  },
  {
   "cell_type": "markdown",
   "source": [
    "### shutil : 강력한 복사와 삭제 기능"
   ],
   "metadata": {
    "collapsed": false
   }
  },
  {
   "cell_type": "code",
   "execution_count": 37,
   "outputs": [],
   "source": [
    "import shutil"
   ],
   "metadata": {
    "collapsed": false,
    "ExecuteTime": {
     "end_time": "2023-07-25T06:37:48.448148444Z",
     "start_time": "2023-07-25T06:37:48.443076060Z"
    }
   }
  },
  {
   "cell_type": "code",
   "execution_count": 43,
   "outputs": [],
   "source": [
    "for file_path, file_name in zip(files_paths, files):\n",
    "\tif not os.path.exists(os.path.dirname(os.getcwd())+\"/copy/\"):\n",
    "\t\tos.mkdir(os.path.dirname(os.getcwd())+\"/copy/\")\n",
    "\tshutil.copyfile(file_path, (os.path.dirname(os.getcwd())+\"/copy/\"+file_name))"
   ],
   "metadata": {
    "collapsed": false,
    "ExecuteTime": {
     "end_time": "2023-07-25T06:42:49.930125005Z",
     "start_time": "2023-07-25T06:42:49.925060200Z"
    }
   }
  },
  {
   "cell_type": "code",
   "execution_count": 44,
   "outputs": [
    {
     "name": "stdout",
     "output_type": "stream",
     "text": [
      "/home/rapa/docs/light_buddy/python/copy/\n"
     ]
    }
   ],
   "source": [
    "print(os.path.dirname(os.getcwd())+\"/copy/\")"
   ],
   "metadata": {
    "collapsed": false,
    "ExecuteTime": {
     "end_time": "2023-07-25T06:43:21.631112706Z",
     "start_time": "2023-07-25T06:43:21.617133758Z"
    }
   }
  },
  {
   "cell_type": "code",
   "execution_count": 45,
   "outputs": [],
   "source": [
    "shutil.rmtree(os.path.dirname(os.getcwd())+\"/copy/\")"
   ],
   "metadata": {
    "collapsed": false,
    "ExecuteTime": {
     "end_time": "2023-07-25T06:44:29.996036012Z",
     "start_time": "2023-07-25T06:44:29.989667649Z"
    }
   }
  },
  {
   "cell_type": "code",
   "execution_count": null,
   "outputs": [],
   "source": [],
   "metadata": {
    "collapsed": false
   }
  }
 ],
 "metadata": {
  "kernelspec": {
   "display_name": "Python 3",
   "language": "python",
   "name": "python3"
  },
  "language_info": {
   "codemirror_mode": {
    "name": "ipython",
    "version": 2
   },
   "file_extension": ".py",
   "mimetype": "text/x-python",
   "name": "python",
   "nbconvert_exporter": "python",
   "pygments_lexer": "ipython2",
   "version": "2.7.6"
  }
 },
 "nbformat": 4,
 "nbformat_minor": 0
}
