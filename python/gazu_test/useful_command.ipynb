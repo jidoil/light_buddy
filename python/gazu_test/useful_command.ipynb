{
 "cells": [
  {
   "cell_type": "markdown",
   "source": [
    "# angleBetween\n",
    "- 두개의 벡터를 이루는 각도를 출력한다.\n",
    "\n",
    "### Syntax\n",
    "\n",
    "angleBetween([constructionHistory=boolean], [euler=boolean], [vector1=[linear, linear, linear], [vector2=[linear, linear, linear]])\n",
    "\n",
    "cmds.angleBetween( v1=(0.0, 1.0, 2.0), v2=(1.0, 2.0, 0.0))\n",
    "[-0.8728715609439698, 0.4364357804719849, -0.21821789023599245, 66.42182152179817]\n",
    "\n",
    "### 리턴값\n",
    "- vector axis, rotation\n",
    "- Euler 방식의 rotation"
   ],
   "metadata": {
    "collapsed": false
   }
  },
  {
   "cell_type": "code",
   "execution_count": null,
   "outputs": [],
   "source": [
    "from maya import cmds\n",
    "\n",
    "\n",
    "selected_objects = cmds.ls(selection=True)\n",
    "\n",
    "positions = []\n",
    "for obj in selected_objects:\n",
    "    position = cmds.xform(obj, query=True, translation=True)\n",
    "    positions.append(position)\n",
    "\n",
    "angle = cmds.angleBetween(er=True, v1=positions[0], v2=positions[1], ch=1)\n",
    "cmds.rotate(*angle+[\"pCone1\"])\n"
   ],
   "metadata": {
    "collapsed": false
   }
  },
  {
   "cell_type": "markdown",
   "source": [],
   "metadata": {
    "collapsed": false
   }
  },
  {
   "cell_type": "markdown",
   "source": [
    "# connectAttr\n",
    "- 두개의 노드의 속성을 연결한다.\n",
    "- 한개의 노드의 속성이 업데이트 된다면 연결된 노드도 영향을 받는다.\n",
    "\n",
    "### Syntax\n",
    "\n",
    "connectAttr(attribute, attribute, [force=boolean], [lock=boolean], [nextAvailable=boolean], [referenceDest=string])\n",
    "\n",
    "cmds.createNode(\"transform\", n=\"firstGuy\")\n",
    "cmds.createNode(\"transform\", n=\"secondGuy\")\n",
    "\n",
    "cmds.connectAttr(\"firstGuy.t\", \"secondGuy.translate\")\n",
    "cmds.disconnectAttr(\"firstGuy.t\", \"secondGuy.translate\")\n"
   ],
   "metadata": {
    "collapsed": false
   }
  },
  {
   "cell_type": "code",
   "execution_count": null,
   "outputs": [],
   "source": [],
   "metadata": {
    "collapsed": false
   }
  },
  {
   "cell_type": "markdown",
   "source": [
    "# createNode\n",
    "\n",
    "- 마야에서 지원하는 모든 노드를 만들수 있다.\n",
    "\n",
    "\n",
    "### Syntax\n",
    "\n",
    "createNode(string, [name=string], [parent=string], [shared=boolean], [skipSelect=boolean])\n",
    "\n",
    "cmds.createNode(\"transform\", name=\"transform1\")\n",
    "cmds.createNode(\"nurbSurface\", name=\"surface1\", parent=\"transform1\")\n",
    "cmds.createNode(\"camera\", shared=True, n=\"top\")\n",
    "cmds.createNode(\"transform\", n=\"selectedTransform\")\n",
    "cmds.createNode(\"transform\", skipSelect=True)\n"
   ],
   "metadata": {
    "collapsed": false
   }
  },
  {
   "cell_type": "markdown",
   "source": [
    "# currentUnit\n",
    "\n",
    "- 단위를 변경한다\n",
    "\n",
    "\n",
    "### Syntax\n",
    "\n",
    "convertUnit( string , [fromUUnit=string], [toUnit=string])\n",
    "\n",
    "cmds.convertUnit( \"12.1\", fromUnit=\"cm\", toUnit=\"in\" )\n",
    "cmds.convertUnit( \"3.1m\", toUnit=\"yard\" )\n",
    "cmds.convertUnit( \"3.1\", fromUnit=\"inch\" )\n"
   ],
   "metadata": {
    "collapsed": false
   }
  },
  {
   "cell_type": "markdown",
   "source": [
    "# delete\n",
    "- object, channel, node를 지우는 명령\n",
    "- node의 이름으로 지운다.\n",
    "- node의 history, constraint, hierarchy를 이용해서 지운다.\n",
    "\n",
    "\n",
    "### Syntax\n",
    "\n",
    "delete( objects, [all=boolean], [attribute=string], [channels=boolean],\n",
    "    [constraints=boolean], [constructionHistory=boolean],[controlPoints=boolean], [expressions=boolean], [hierachy=string],\n",
    "    [inputConnectionAndNodes=boolean], [shape=boolean], [staticChannels=boolean], [timeAniationCurves=boolean], [unitlessAnimationCurves=boolean] )\n",
    "\n",
    "### 선택한 object를 삭제한다.\n",
    "cmds.delete()\n",
    "\n",
    "### object node의 이름을 지정해서 지운다.\n",
    "cmds.delete(\"surfacesShape1\", \"surface1\", \"paramCurve1\")\n",
    "\n",
    "### 씬의 모든 채널을 삭제한다.\n",
    "cmds.delete(all=True, channels=True)\n",
    "\n",
    "### 선택된 node의 채널을 삭제한다.\n",
    "cmds.delete(sc=True)\n"
   ],
   "metadata": {
    "collapsed": false
   }
  },
  {
   "cell_type": "markdown",
   "source": [
    "# duplicate\n",
    "- 선택된 object를 복제한다\n",
    "\n",
    "### Syntax\n",
    "duplicate( [objects...], [inputConnections=boolean], [instanceLeaf=boolean],\n",
    "     [name=string],  [parentOnly=boolean],  [renameChildren=boolean],\n",
    "      [returnRootsOnly=boolean],  [smartTransform=boolean],  [upstreamNodes=boolean]\n",
    ")\n",
    "\n",
    "cmds.sphere(name=\"sphere1\")\n",
    "cmds.move(3, 0, 0)\n",
    "cmds.sphere(name=\"sphere2\")\n",
    "cmds.move(-3, 0, 0)\n",
    "cmds.group(\"sphere1\", \"sphere2\", name=\"group1\")\n",
    "cmds.circle(name=\"circle\")\n",
    "\n",
    "cmds.duplicate(\"group1\")\n",
    "cmds.undo()\n",
    "cmds.duplicate(\"group1\", returnRootsOnly=True)\n",
    "\n",
    "cmds.duplicate(\"circle1\")\n",
    "cmds.move(3, 0, 0)\n",
    "cmds.duplicate(smartTransform=True)\n",
    "cmds.duplicate(smartTransform=True)\n",
    "\n",
    "\n",
    "### inputConnections 옵션을 이용하여 연결된 DG node까지 복제\n",
    "cmds.duplicate(\"group1|sphere1\", inputConnections=True)\n",
    "cmds.move(0, 0, 0)\n",
    "cmds.setAttr(\"makeNurbSphere1.radius\", 2)\n",
    "\n",
    "\n",
    "### 상부 구조의 연결 노드도 복사하기\n",
    "cmds.select(\"group1|sphere2\")\n",
    "cmds.duplicate(upstreamNodes=True)\n"
   ],
   "metadata": {
    "collapsed": false
   }
  },
  {
   "cell_type": "markdown",
   "source": [
    "# eval\n",
    "- Python에서 MEL을 실행할수 있게 하는 명령어\n",
    "\n",
    "### Syntax\n",
    "\n",
    "from maya import mel\n",
    "\n",
    "mel.eval( string )\n",
    "\n",
    "mel.eval('match \"a+b+\" \"abbcc\"')\n",
    ">> abb\n",
    "\n",
    "myPythonVar = mel.eval('$tempMelVar=$gMainWindow')\n",
    "print(myPythonVar)"
   ],
   "metadata": {
    "collapsed": false
   }
  },
  {
   "cell_type": "code",
   "execution_count": null,
   "outputs": [],
   "source": [],
   "metadata": {
    "collapsed": false
   }
  },
  {
   "cell_type": "markdown",
   "source": [
    "# expression\n",
    "- Maya expression node를 생성하거나 수정한다\n",
    "\n",
    "### Syntax\n",
    "expression( [alwaysEvaluate=uint], [name=string], [object=string], [shortName=boolean], [string=string], [uintConversion=string]\n",
    ")\n",
    "\n",
    "cmds.expression( s='a.translateX = b.translateX * sin(c.translateX)' )\n",
    "\n",
    "cmds.expression( object=\"ball\", s='tx = sin(time);' )\n",
    "\n",
    "\n",
    "\n",
    "ball = cmds.sphere(name=\"ball\")\n",
    "ex = '''\n",
    "    %s.tx = sin(time * 2) * 4;\n",
    "    %s.tz = cos(time * 2) * 4;\n",
    "''' % (ball[0], ball[0])\n",
    "cmds.expression(name=\"ballEx\", string=ex)\n"
   ],
   "metadata": {
    "collapsed": false
   }
  },
  {
   "cell_type": "markdown",
   "source": [
    "# filterExpand\n",
    "- make에 맞는 자원을 하나씩 나열하는 기능\n",
    "- cmds.ls(selection=True, flatten=True)와 비슷한 기능을 한다.\n",
    "    - flatten: 목록을 1차원 배열로 표시함\n",
    "\n",
    "### Syntax\n",
    "filterExpand( [expand=boolean], [fullPath=boolean], [selection=int] )\n",
    "\n",
    "cmds.filterExpand( expand=True, selectionMask=45 )\n",
    "cmds.filterExpand( expand=False, selectionMask=28 )\n",
    "cmds.filterExpand( selectionMask=(28, 30) )\n",
    "cmds.filterExpand( sm=9 )\n",
    "cmds.filterExpand( selectionMask=11 )\n",
    "\n",
    "| Handle | 0 |\n",
    "| --- | --- |\n",
    "| Nurbs Curves | 9 |\n",
    "| Nurbs Surfaces | 10 |\n",
    "| Nurbs Curves On Surface | 11 |\n",
    "| Polygon | 12 |\n",
    "| Locator XYZ | 22 |\n",
    "| Orientation Locator | 23 |\n",
    "| Locator UV | 24 |\n",
    "| Control Vertices (CVs) | 28 |\n",
    "| Edit Points | 30 |\n",
    "| Polygon Vertices | 31 |\n",
    "| Polygon Edges | 32 |\n",
    "| Polygon Face | 34 |\n",
    "| Polygon UVs | 35 |\n",
    "| Subdivision Mesh Points | 36 |\n",
    "| Subdivision Mesh Edges | 37 |\n",
    "| Subdivisino Mesh Faces | 38 |\n",
    "| Curve Parameter Points | 39 |\n",
    "| Curve Knot | 41 |\n",
    "| Surface Knot | 42 |\n",
    "| Surface Range | 43 |\n",
    "| Trim Surface Edge | 44 |\n",
    "| Surface Isoparms | 45 |\n",
    "| Lattice Points | 46 |\n",
    "| Particles | 47 |\n",
    "| Scale Pivots | 49 |\n",
    "| Rotate Pivots | 50 |\n",
    "| Select Handles | 51 |\n",
    "| Subdivision Surface | 68 |\n",
    "| Polygon Vertex Face | 70 |\n",
    "| NURBS Surface Face | 72 |\n",
    "| Subdivision Mesh UVs | 73 |"
   ],
   "metadata": {
    "collapsed": false
   }
  },
  {
   "cell_type": "markdown",
   "source": [
    "# group\n",
    "\n",
    "- 기존의 object를 묶거나 비어있는 그룹을 생성한다\n",
    "\n",
    "\n",
    "\n",
    "### Syntax\n",
    "\n",
    "group( [objects...], [absolute=boolean], [empty=boolean], [name=string], [parent=string], [relative=boolean], [world=boolean])\n",
    "\n",
    "cmds.group( empty=True, name=\"null1\")\n",
    "\n",
    "cmds.sphere( name=\"sphere1\" )\n",
    "cmds.circle( name=\"circle1\" )\n",
    "cmds.group( \"sphere1\", \"circle1\", name=\"group1\" )\n",
    "\n",
    "cmds.group( \"sphere1\", parent=\"null1\")\n"
   ],
   "metadata": {
    "collapsed": false
   }
  },
  {
   "cell_type": "markdown",
   "source": [
    "# ungroup\n",
    "- 그룹되어 있는 오브젝트들을 언그룹 한다.\n",
    "\n",
    "### Syntax\n",
    "ungroup( [objects...], [absolute=boolean], [empty=boolean], [name=string], [parent=string], [relative=boolean], [world=boolean])\n",
    "\n",
    "cmds.ungroup(\"group1\")\n",
    "\n",
    "cmds.undo()\n",
    "cmds.ungroup(\"group1\", relative=True)\n",
    "\n",
    "\n",
    "cmds.undo()\n",
    "cmds.ungroup(\"group1\", parent=\"group3\")\n"
   ],
   "metadata": {
    "collapsed": false
   }
  },
  {
   "cell_type": "markdown",
   "source": [
    "# hide\n",
    "- object를 hide한다\n",
    "\n",
    "### Syntax\n",
    "hide( [objects], [allObjects=boolean], [returnHidden=boolean] )\n",
    "\n",
    "cmds.hide( all=True )\n",
    "cmds.hide(cmds.ls(type=\"nurbsSurface\"))\n",
    "cmds.showHidden(all=True)\n"
   ],
   "metadata": {
    "collapsed": false
   }
  },
  {
   "cell_type": "markdown",
   "source": [
    "# instance\n",
    "- object를 복제하지 않고 인스턴스를 생성한다.\n",
    "\n",
    "### Syntax\n",
    "\n",
    "instance( [objects], [leaf=boolean], [name=string], [smartTransform=boolean] )\n",
    "\n",
    "cmds.sphere( name=\"sphere1\" )\n",
    "cmds.move(3, 0, 0)\n",
    "cmds.sphere( name=\"sphere2\" )\n",
    "cmds.move(3, 0, 0)\n",
    "cmds.group(\"sphere1\", \"sphere2\", name=\"group1\")\n",
    "cmds.group(\"group1\", name=\"group2\")\n",
    "\n",
    "cmds.instance(\"sphere1\")\n",
    "cmds.instance(\"group1\", leaf=True)\n",
    "\n",
    "cmds.circle(name=\"circle1\")\n",
    "cmds.instance()\n",
    "cmds.move(3, 0, 0)\n",
    "cmds.instance( smartTransform=True )\n",
    "cmds.instance( smartTransform=True )"
   ],
   "metadata": {
    "collapsed": false
   }
  },
  {
   "cell_type": "markdown",
   "source": [
    "# objectCenter\n",
    "- object의 중앙 좌표를 return\n",
    "\n",
    "### Syntax\n",
    "objectCenter( object, [global=boolean], [local=boolean], [x=boolean], [y=boolean], [z=boolean] )\n",
    "\n",
    "\n",
    "if cmds.objExists(\"surface1\"):\n",
    "    res = cmds.select(\"surface1\")\n",
    "    print(cmds.objectCenter(res))"
   ],
   "metadata": {
    "collapsed": false
   }
  },
  {
   "cell_type": "markdown",
   "source": [
    "# parent\n",
    "- DAG node의 hierarchy 구조를 만드는 명령어\n",
    "\n",
    "### Syntax\n",
    "\n",
    "parent( [dagObject...] [dagObject], [absolute=boolean], [addObject=boolean], [noConnections=boolean], [relative=boolean], [removeObject=boolean], [shape=boolean], [world=boolean])\n",
    "\n",
    "cmds.circle(name=\"circle1\")\n",
    "cmds.move(5,0,0)\n",
    "cmds.group(name=\"group1\")\n",
    "cmds.move(-5, 0, 0)\n",
    "cmds.group(empty=True, name=\"group2\")\n",
    "cmds.parent(\"circle1\", \"group2\")\n",
    "cmds.undo()\n",
    "cmds.parent(\"circle1\", \"group2\", relative=True)\n",
    "cmds.undo()\n",
    "cmds.parent(\"circle1\", \"group2\", add=True)\n",
    "cmds.parent(\"group1|circle1\", removeObject=True)\n",
    "cmds.parent(\"group2|circle1\", world=True)"
   ],
   "metadata": {
    "collapsed": false
   }
  },
  {
   "cell_type": "markdown",
   "source": [
    "# polyAverageVertex\n",
    "\n",
    "- vertex들 위치의 평균위치로 이동시키면서 둥그런 vertex들이 일정한 거리를 유지하 는 결과를 얻습니다.\n",
    "\n",
    "\n",
    "### Syntax\n",
    "\n",
    "cmds.polyCube(subdivisionsX=5, subdivisionsY=5, subdivisionsZ=5, name=\"plg\")\n",
    "cmds.polyAverageVertex(\"plg.vtx[*]\")\n",
    "\n"
   ],
   "metadata": {
    "collapsed": false
   }
  },
  {
   "cell_type": "markdown",
   "source": [
    "# polyInfo\n",
    "\n",
    "- polygon object에서 face, edge, vertex자원에 대한 정보를 출력\n",
    "\n",
    "\n",
    "### Syntax\n",
    "\n",
    "polyInfo( [edgeToFace=], [edgeToVertex=boolean], [faceNormals=boolean], [faceToEdge=boolean], [faceToVertex=boolean], [laminaPaces=boolean], [nonManifoldEdges=boolean], [nonManifoldVertices=boolean], [vertexToEdge=boolean], [vertexToFace=boolean])\n",
    "\n",
    "cmds.polyCube()\n",
    "for x in cmds.polyInfo( faceNormals=True):\n",
    "    print(x)\n",
    "\n",
    "cmds.polyCube()\n",
    "normal_list = [vector.rsplit()[2:] for vector in cmds.polyInfo(faceNormals=True)]\n",
    "print(normal_list)"
   ],
   "metadata": {
    "collapsed": false
   }
  },
  {
   "cell_type": "markdown",
   "source": [
    "# polyListComponentConversion\n",
    "\n",
    "선택한 자원을 다른자원으로 변환시킴\n",
    "\n",
    "### Syntax\n",
    "\n",
    "\n",
    "- polyListComponentConversion( selectionItem[], [border=boolean], [fromEdge=boolean], [fromFace=boolean], [fromUV=boolean], [fromVertex=boolean], [fromVertexFace=boolean], [internal=boolean], [toEdge=boolean], [toFace=boolean], [toUV=boolean], [toVertex=boolean], [toVertexFace=boolean] )\n",
    "\n",
    "\n",
    "cmds.polyListComponentConversion( \"plg.vtx[5:6]\", \"plg.vtx[9:10]\", fv=True, tf=True, internal=True )\n",
    "\n",
    "cmds.polyListComponentConversion(\"plg.vtx[0]\", \"plg.vtx[3]\", \"plg.vtx[8]\", tf=True)\n",
    "\n",
    "cmds.polyListComponentConversion( \"plg\", tf=True )\n",
    "\n",
    "cmds.polyListComponentConversion(fv=True, tf=True)"
   ],
   "metadata": {
    "collapsed": false
   }
  },
  {
   "cell_type": "markdown",
   "source": [],
   "metadata": {
    "collapsed": false
   }
  },
  {
   "cell_type": "markdown",
   "source": [
    "# refresh\n",
    "\n",
    "- maya viewport graphic을 새로 그려냅니다.\n",
    "\n",
    "### Syntax\n",
    "\n",
    "refresh([currentView=boolean], [force=boolean])\n",
    "\n",
    "import math\n",
    "for x in range(50):\n",
    "    cmds.sphere()\n",
    "    cmds.move(math.sin(x * math.pi * 2 /50) * 20,\n",
    "    cmds.move(math.cos(x * math.pi * 2 /50) * 20,\n",
    "    cmds.refresh()\n",
    "### 리턴값\n",
    "-"
   ],
   "metadata": {
    "collapsed": false
   }
  },
  {
   "cell_type": "markdown",
   "source": [
    "# scaleKey\n",
    "- scaleKey( objects, [animation=string], [attribute=string], [float=floatrange], [floatPivot=float], [floatScale=float], [hierarchy=string], [newEndFloat=float], [newEndTime=time], [newStartFloat=float], [newStartTime=time], [scaleSpecifiedKeys=boolean], [shape=boolean], [time=timerange], [timePivot=time], [timeScale=float], [valuePivot=float], [valueScale=float])\n",
    "\n",
    "\n",
    "### Syntax\n",
    "cmds.scaleKey(\"nurbeSphere1\", time=(10,20), newStartTime=10, newEndTime=30, attribute=\"tx\")\n",
    "\n",
    "cmds.scaleKey(time=(0,30), timeScale=2, timePivot=0)\n",
    "\n",
    "cmds.scaleKey(valueScale=2, valuePivot=0)\n"
   ],
   "metadata": {
    "collapsed": false
   }
  },
  {
   "cell_type": "markdown",
   "source": [
    "# spaceLocator\n",
    "- 로케이터를 만드는 명령\n",
    "\n",
    "### Syntax\n",
    "spaceLocator([absolute=boolean], [name=string], [position=[linear, linear, linear]], [relative=boolean]\n",
    "\n",
    "cmds.spaceLocator(p=(1,1,1))\n",
    "\n",
    "### 리턴값\n",
    "-"
   ],
   "metadata": {
    "collapsed": false
   }
  }
 ],
 "metadata": {
  "kernelspec": {
   "display_name": "Python 3",
   "language": "python",
   "name": "python3"
  },
  "language_info": {
   "codemirror_mode": {
    "name": "ipython",
    "version": 2
   },
   "file_extension": ".py",
   "mimetype": "text/x-python",
   "name": "python",
   "nbconvert_exporter": "python",
   "pygments_lexer": "ipython2",
   "version": "2.7.6"
  }
 },
 "nbformat": 4,
 "nbformat_minor": 0
}
